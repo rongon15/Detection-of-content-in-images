{
 "cells": [
  {
   "cell_type": "code",
   "execution_count": null,
   "metadata": {},
   "outputs": [
    {
     "name": "stdout",
     "output_type": "stream",
     "text": [
      " * Serving Flask app \"__main__\" (lazy loading)\n",
      " * Environment: production\n",
      "   WARNING: This is a development server. Do not use it in a production deployment.\n",
      "   Use a production WSGI server instead.\n",
      " * Debug mode: on\n"
     ]
    },
    {
     "name": "stderr",
     "output_type": "stream",
     "text": [
      " * Running on http://127.0.0.1:5000/ (Press CTRL+C to quit)\n",
      "127.0.0.1 - - [26/Mar/2021 01:46:02] \"\u001b[37mGET / HTTP/1.1\u001b[0m\" 200 -\n",
      "127.0.0.1 - - [26/Mar/2021 01:46:02] \"\u001b[37mGET /static/upload.js HTTP/1.1\u001b[0m\" 200 -\n",
      "127.0.0.1 - - [26/Mar/2021 01:46:02] \"\u001b[37mGET / HTTP/1.1\u001b[0m\" 200 -\n",
      "127.0.0.1 - - [26/Mar/2021 01:46:02] \"\u001b[33mGET /favicon.ico HTTP/1.1\u001b[0m\" 404 -\n"
     ]
    }
   ],
   "source": [
    "from flask import Flask, render_template, request \n",
    "from werkzeug.utils import secure_filename\n",
    "from werkzeug.datastructures import  FileStorage\n",
    "import tensorflow as tf\n",
    "from tensorflow.keras.preprocessing.image import ImageDataGenerator \n",
    "import tensorflow as tf \n",
    "import numpy as np \n",
    "import os\n",
    "from inspect import getsourcefile\n",
    "from os.path import abspath\n",
    "  \n",
    "try: \n",
    "    import shutil \n",
    "    shutil.rmtree('uploaded / image') \n",
    "    % cd uploaded % mkdir image % cd .. \n",
    "    print() \n",
    "except: \n",
    "    pass\n",
    "  \n",
    "model = tf.keras.models.load_model('My_Model', compile=False) \n",
    "app = Flask(__name__) \n",
    "  \n",
    "app.config['UPLOAD_FOLDER'] = 'uploaded / image'\n",
    "  \n",
    "@app.route('/') \n",
    "def upload_f(): \n",
    "    return render_template('upload.html') \n",
    "  \n",
    "def finds(): \n",
    "    test_datagen = ImageDataGenerator(rescale = 1./255) \n",
    "    vals = ['mountain', 'street', 'glacier', 'buildings', 'sea', 'forest'] # change this according to what you've trained your model to do \n",
    "    test_dir = 'uploaded'\n",
    "    test_generator = test_datagen.flow_from_directory( \n",
    "            test_dir, \n",
    "            target_size =(150, 150), \n",
    "            color_mode =\"rgb\", \n",
    "            shuffle = False, \n",
    "            class_mode ='sparse', \n",
    "            batch_size = 1) \n",
    "    \n",
    "  \n",
    "    pred = model.predict_generator(test_generator) \n",
    "    print(pred) \n",
    "\n",
    "    return str(vals[np.argmax(pred)]) \n",
    "\n",
    "  \n",
    "@app.route('/uploader', methods = ['GET', 'POST']) \n",
    "def upload_file(): \n",
    "    if request.method == 'POST': \n",
    "        f = request.files['file'] \n",
    "        basepath = os.path.dirname(os.path.abspath(\"__file__\"))\n",
    "        file_path = os.path.join(\n",
    "            basepath, 'uploaded/Image', secure_filename(f.filename))\n",
    "        f.save(file_path) \n",
    "        val = finds()  \n",
    "        return render_template('pred.html', ss = val)\n",
    "  \n",
    "if __name__ == '__main__': \n",
    "    app.run(debug=True, use_reloader=False)"
   ]
  },
  {
   "cell_type": "code",
   "execution_count": null,
   "metadata": {},
   "outputs": [],
   "source": [
    " print(tf.keras.__version__)"
   ]
  },
  {
   "cell_type": "code",
   "execution_count": null,
   "metadata": {},
   "outputs": [],
   "source": []
  },
  {
   "cell_type": "code",
   "execution_count": null,
   "metadata": {},
   "outputs": [],
   "source": []
  }
 ],
 "metadata": {
  "kernelspec": {
   "display_name": "Python 3",
   "language": "python",
   "name": "python3"
  },
  "language_info": {
   "codemirror_mode": {
    "name": "ipython",
    "version": 3
   },
   "file_extension": ".py",
   "mimetype": "text/x-python",
   "name": "python",
   "nbconvert_exporter": "python",
   "pygments_lexer": "ipython3",
   "version": "3.7.6"
  }
 },
 "nbformat": 4,
 "nbformat_minor": 4
}
